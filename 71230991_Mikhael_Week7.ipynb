{
  "nbformat": 4,
  "nbformat_minor": 0,
  "metadata": {
    "colab": {
      "provenance": []
    },
    "kernelspec": {
      "name": "python3",
      "display_name": "Python 3"
    },
    "language_info": {
      "name": "python"
    }
  },
  "cells": [
    {
      "cell_type": "markdown",
      "source": [
        "Latihan 7.1"
      ],
      "metadata": {
        "id": "229Nhg-ZCoYW"
      }
    },
    {
      "cell_type": "code",
      "execution_count": 1,
      "metadata": {
        "colab": {
          "base_uri": "https://localhost:8080/"
        },
        "id": "c7O8RY1TCnSx",
        "outputId": "fc3dcfc6-cb76-45dc-85d8-27229cd11b77"
      },
      "outputs": [
        {
          "output_type": "stream",
          "name": "stdout",
          "text": [
            "masukan kata pertama : mata\n",
            "masukan kata setelah diubah : tama\n",
            "kata pertama : mata dan kata kedua : tama adalah ANAGRAM!\n"
          ]
        }
      ],
      "source": [
        "def main():\n",
        "    kata1 = str(input(\"masukan kata pertama : \"))\n",
        "    kata2 = str(input(\"masukan kata setelah diubah : \"))\n",
        "\n",
        "    if anagram(kata1, kata2):\n",
        "        print(f\"kata pertama : {kata1} dan kata kedua : {kata2} adalah ANAGRAM!\")\n",
        "    else:\n",
        "        print(f\"kata pertama :  {kata1} dan kata kedua : {kata2} BUKAN ANAGRAM!\")\n",
        "\n",
        "def anagram(kata1, kata2):\n",
        "    kata1 = kata1.lower()\n",
        "    kata2 = kata2.lower()\n",
        "\n",
        "    urutan1 = sorted(kata1)\n",
        "    urutan2 = sorted(kata2)\n",
        "\n",
        "    return urutan1 == urutan2\n",
        "\n",
        "\n",
        "if __name__ == \"__main__\":\n",
        "    main()"
      ]
    },
    {
      "cell_type": "markdown",
      "source": [
        "Latihan 7.2"
      ],
      "metadata": {
        "id": "YQMDyESpDOjZ"
      }
    },
    {
      "cell_type": "code",
      "source": [
        "def main():\n",
        "    kalimat = str(input(\"masukan sebuah kalimat : \"))\n",
        "    kata = str(input(\"masukan kata yang ingin dicari : \"))\n",
        "\n",
        "    jumlah = frekuensi_kata(kalimat, kata)\n",
        "    if jumlah > 0:\n",
        "        print(f\"kata : '{kata}' muncul sebanyak {jumlah} buah d kalimat : {kalimat}\")\n",
        "    elif jumlah <= 0:\n",
        "        print(f\"kata : '{kata}' tidak ada dalam kalimat : '{kalimat}' \")\n",
        "\n",
        "def frekuensi_kata(kalimat, kata):\n",
        "    kalimat = kalimat.lower()\n",
        "    kata = kata.lower()\n",
        "\n",
        "    kata_muncul = 0\n",
        "    kata2 = kalimat.split()\n",
        "    for i in kata2:\n",
        "        if i == kata:\n",
        "            kata_muncul += 1\n",
        "    return kata_muncul\n",
        "\n",
        "if __name__ == \"__main__\":\n",
        "    main()"
      ],
      "metadata": {
        "colab": {
          "base_uri": "https://localhost:8080/"
        },
        "id": "hYSdDZOLDRjY",
        "outputId": "9c026064-632d-4711-e346-2170ab4c253e"
      },
      "execution_count": 2,
      "outputs": [
        {
          "output_type": "stream",
          "name": "stdout",
          "text": [
            "masukan sebuah kalimat : makan adalah selalu makan dan suka makan makan\n",
            "masukan kata yang ingin dicari : makan\n",
            "kata : 'makan' muncul sebanyak 4 buah d kalimat : makan adalah selalu makan dan suka makan makan\n"
          ]
        }
      ]
    },
    {
      "cell_type": "markdown",
      "source": [
        "Latihan 7.3"
      ],
      "metadata": {
        "id": "x1Ql8UriDwOj"
      }
    },
    {
      "cell_type": "code",
      "source": [
        "def main():\n",
        "    kalimat = str(input(\"Masukan kalimat : \"))\n",
        "    hasil = hapus_spasi(kalimat)\n",
        "\n",
        "    print(f\" '{kalimat}' setelah dihapus spasi berlebih menjadi :'{hasil}' \")\n",
        "\n",
        "def hapus_spasi(kalimat):\n",
        "    kalimat_pisah = kalimat.split()\n",
        "    kalimat2 = \" \".join(kalimat_pisah)\n",
        "    return kalimat2\n",
        "\n",
        "if __name__ == \"__main__\":\n",
        "    main()"
      ],
      "metadata": {
        "colab": {
          "base_uri": "https://localhost:8080/"
        },
        "id": "MJOUZswDDvgi",
        "outputId": "fabdf5f3-d4f7-4ac6-a82f-3164e272f61d"
      },
      "execution_count": 3,
      "outputs": [
        {
          "output_type": "stream",
          "name": "stdout",
          "text": [
            "Masukan kalimat : selalu dan       suka      jeajf    \n",
            " 'selalu dan       suka      jeajf    ' setelah dihapus spasi berlebih menjadi :'selalu dan suka jeajf' \n"
          ]
        }
      ]
    },
    {
      "cell_type": "markdown",
      "source": [
        "Latihan 7.4"
      ],
      "metadata": {
        "id": "kC8_ZZ4OD8dG"
      }
    },
    {
      "cell_type": "code",
      "source": [
        "def panjang_kata(kalimat):\n",
        "    kata = kalimat.split()\n",
        "\n",
        "    terpendek = kata[0]\n",
        "    terpanjang = kata[0]\n",
        "\n",
        "    for i in kata:\n",
        "        if len(i) < len(terpendek):\n",
        "            terpendek = i\n",
        "        elif len(i) > len(terpanjang):\n",
        "            terpanjang = i\n",
        "\n",
        "    return terpendek, terpanjang\n",
        "\n",
        "def main():\n",
        "    kalimat = str(input(\"Masukkan sebuah kalimat : \"))\n",
        "    terpendek, terpanjang = panjang_kata(kalimat)\n",
        "    print(f\"dari kalimat : '{kalimat}', kata terpendeknya adalah : '{terpendek}', dan terpanjang adalah : '{terpanjang}' \")\n",
        "\n",
        "if __name__==\"__main__\":\n",
        "    main()"
      ],
      "metadata": {
        "colab": {
          "base_uri": "https://localhost:8080/"
        },
        "id": "HghwWd-6D9uy",
        "outputId": "8740117d-ecb3-46ab-e8e9-806c58ea4677"
      },
      "execution_count": 4,
      "outputs": [
        {
          "output_type": "stream",
          "name": "stdout",
          "text": [
            "Masukkan sebuah kalimat : makan nasi dan selalu au\n",
            "dari kalimat : 'makan nasi dan selalu au', kata terpendeknya adalah : 'au', dan terpanjang adalah : 'selalu' \n"
          ]
        }
      ]
    }
  ]
}